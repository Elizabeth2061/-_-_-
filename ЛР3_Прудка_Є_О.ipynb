{
  "nbformat": 4,
  "nbformat_minor": 0,
  "metadata": {
    "colab": {
      "provenance": [],
      "authorship_tag": "ABX9TyMeKY5hzsjSuPqdebQOTUB8",
      "include_colab_link": true
    },
    "kernelspec": {
      "name": "python3",
      "display_name": "Python 3"
    },
    "language_info": {
      "name": "python"
    }
  },
  "cells": [
    {
      "cell_type": "markdown",
      "metadata": {
        "id": "view-in-github",
        "colab_type": "text"
      },
      "source": [
        "<a href=\"https://colab.research.google.com/github/Elizabeth2061/Laboratory-work/blob/main/%D0%9B%D0%A03_%D0%9F%D1%80%D1%83%D0%B4%D0%BA%D0%B0_%D0%84_%D0%9E.ipynb\" target=\"_parent\"><img src=\"https://colab.research.google.com/assets/colab-badge.svg\" alt=\"Open In Colab\"/></a>"
      ]
    },
    {
      "cell_type": "markdown",
      "source": [
        "#Прудка Єлизавета Олександрівна\n",
        "Лабораторна робота 3.\n",
        "Група 2-8.\n",
        "Варіант 26."
      ],
      "metadata": {
        "id": "9_E3UtixigeE"
      }
    },
    {
      "cell_type": "code",
      "source": [
        "import numpy as np\n",
        "import numdifftools as nd\n",
        "\n",
        "f = lambda x: 3*x**4 + 4*x**3 - 12*x**2 - 1\n",
        "\n",
        "#Відокремлення коренів.\n",
        "def find_segments():\n",
        "  search_range = np.arange(-10, 10, 1)\n",
        "\n",
        "  a = None\n",
        "  previous_x = None\n",
        "  current_x = None\n",
        "  segments = []\n",
        "\n",
        "  for x in search_range:\n",
        "      x = round(x, 4)\n",
        "      current_x = f(x)\n",
        "      if previous_x != None and previous_x * current_x < 0:\n",
        "         segments.append((a, x))\n",
        "      a = x\n",
        "      previous_x = current_x\n",
        "  return segments\n",
        "\n",
        "segments = find_segments()\n",
        "for a, b in segments:\n",
        "  print(f'Знайдений сегмент: [{a}, {b}]')\n",
        "\n",
        "\n",
        "#Комбінований метод.\n",
        "def nuton(a, b, eps, f):\n",
        "   df2 = nd.Derivative(f, n=2)(b) # Отримуємо значення похідної другого порядку в точці b\n",
        "   if f(b) * df2 > 0:\n",
        "      xi = b\n",
        "   else:\n",
        "      xi = a\n",
        "   df = nd.Derivative(f, n=1)(xi) # Отримуємо значення похідної першого порядку в точці xi\n",
        "   xi_1 = xi - f(xi) / df\n",
        "   while abs(xi_1 - xi) > eps: # перевіряємо точність\n",
        "      xi = xi_1\n",
        "      xi_1 = xi - f(xi) / df\n",
        "   print('Метод Ньютона, x = ', xi_1.round(4))\n",
        "\n",
        "def komb(a, b, eps, f):\n",
        "   if nd.Derivative(f, n=1)(a) * nd.Derivative(f, n=2)(a) > 0:\n",
        "      a0 = a\n",
        "      b0 = b\n",
        "   else:\n",
        "      a0 = b\n",
        "      b0 = a\n",
        "      ai = a0\n",
        "      bi = b0\n",
        "   while abs(ai - bi) > eps:\n",
        "      ai_1 = ai - f(ai) * (bi - ai) / (f(bi) - f(ai))\n",
        "      bi_1 = bi - f(bi) / nd.Derivative(f, n=1)(bi)\n",
        "      ai = ai_1\n",
        "      bi = bi_1\n",
        "   x = (ai_1 + bi_1) / 2\n",
        "\n",
        "   print('Комбінований метод, x = ', x.round(4))\n",
        "if __name__ == \"__main__\":\n",
        " a1, b1 = -3, -2\n",
        " a2, b2 = 1, 2\n",
        " eps = 0.001\n",
        "\n",
        " print(\"\\n Розв'язки на відрізку [-3, -2]\")\n",
        " nuton(a1, b1, eps, f)\n",
        " komb(a1, b1, eps, f)\n",
        " print(\"\\n Розв'язки на відрізку [1, 2]\")\n",
        " nuton(a2, b2, eps, f)\n",
        " komb(a2, b2, eps, f)\n"
      ],
      "metadata": {
        "id": "Fw00p94bnwo5",
        "colab": {
          "base_uri": "https://localhost:8080/"
        },
        "outputId": "d0935cf3-3d03-4789-b0b1-71b0b2fa117e"
      },
      "execution_count": null,
      "outputs": [
        {
          "output_type": "stream",
          "name": "stdout",
          "text": [
            "Знайдений сегмент: [-3, -2]\n",
            "Знайдений сегмент: [1, 2]\n",
            "\n",
            " Розв'язки на відрізку [-3, -2]\n",
            "Метод Ньютона, x =  -2.7853\n",
            "Комбінований метод, x =  -2.785\n",
            "\n",
            " Розв'язки на відрізку [1, 2]\n",
            "Метод Ньютона, x =  1.4791\n",
            "Комбінований метод, x =  nan\n"
          ]
        },
        {
          "output_type": "stream",
          "name": "stderr",
          "text": [
            "<ipython-input-21-91bade668247>:54: RuntimeWarning: divide by zero encountered in divide\n",
            "  bi_1 = bi - f(bi) / nd.Derivative(f, n=1)(bi)\n",
            "<ipython-input-21-91bade668247>:4: RuntimeWarning: invalid value encountered in scalar subtract\n",
            "  f = lambda x: 3*x**4 + 4*x**3 - 12*x**2 - 1\n",
            "/usr/local/lib/python3.10/dist-packages/numpy/lib/nanfunctions.py:1563: RuntimeWarning: All-NaN slice encountered\n",
            "  return function_base._ureduce(a,\n",
            "/usr/local/lib/python3.10/dist-packages/numdifftools/limits.py:150: UserWarning: All-NaN slice encountered\n",
            "  warnings.warn(str(msg))\n"
          ]
        }
      ]
    }
  ]
}