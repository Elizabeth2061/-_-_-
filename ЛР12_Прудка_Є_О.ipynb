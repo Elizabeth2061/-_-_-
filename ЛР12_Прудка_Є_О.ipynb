{
  "nbformat": 4,
  "nbformat_minor": 0,
  "metadata": {
    "colab": {
      "provenance": [],
      "authorship_tag": "ABX9TyPuqN35z+S/TY2i7XlnQW++",
      "include_colab_link": true
    },
    "kernelspec": {
      "name": "python3",
      "display_name": "Python 3"
    },
    "language_info": {
      "name": "python"
    }
  },
  "cells": [
    {
      "cell_type": "markdown",
      "metadata": {
        "id": "view-in-github",
        "colab_type": "text"
      },
      "source": [
        "<a href=\"https://colab.research.google.com/github/Elizabeth2061/Laboratory-work/blob/main/%D0%9B%D0%A012_%D0%9F%D1%80%D1%83%D0%B4%D0%BA%D0%B0_%D0%84_%D0%9E.ipynb\" target=\"_parent\"><img src=\"https://colab.research.google.com/assets/colab-badge.svg\" alt=\"Open In Colab\"/></a>"
      ]
    },
    {
      "cell_type": "markdown",
      "source": [
        "#Прудка Єлизавета Олександрівна\n",
        "Лабораторна 12.\n",
        "Група 2-8.\n",
        "Варіант 26."
      ],
      "metadata": {
        "id": "ZCAkogxeVxVN"
      }
    },
    {
      "cell_type": "markdown",
      "source": [
        "**Завдання 1.**\n",
        "Метод прямокутників (правих, лівих і середніх)"
      ],
      "metadata": {
        "id": "rkXXFePrbxIB"
      }
    },
    {
      "cell_type": "code",
      "source": [
        "#Обчислення інтеграла методом прямокутників\n",
        "from scipy import integrate\n",
        "import numpy as np\n",
        "\n",
        "a = 1.2\n",
        "b = 2\n",
        "n = 10\n",
        "h = (b - a) / n\n",
        "\n",
        "def f1(x):\n",
        "    return 1 / np.sqrt(x + 1.2)\n",
        "\n",
        "def left_rec(f1, a, b):\n",
        "    sum = 0\n",
        "    for i in range(0, n):\n",
        "        sum += f1(a + i * h)\n",
        "    return sum * h\n",
        "\n",
        "print(\"Left rectangle:\", round(left_rec(f1, a, b), 5))\n",
        "\n",
        "def right_rec(f1, a, b):\n",
        "    sum = 0\n",
        "    for i in range(1, n + 1):\n",
        "        sum += f1(a + i * h)\n",
        "    return sum * h\n",
        "\n",
        "print(\"Right rectangle:\", round(right_rec(f1, a, b), 5))\n",
        "\n",
        "def aver_rec(f1, a, b):\n",
        "    sum = 0\n",
        "    for i in range(0, n):\n",
        "        sum += f1(a + (i + 0.5) * h)\n",
        "    return sum * h\n",
        "\n",
        "print(\"Average rectangle:\", round(aver_rec(f1, a, b), 5))\n",
        "\n",
        "# Перевірка\n",
        "v, err = integrate.quad(f1, a, b)\n",
        "print(\"Check with SciPy quad method:\", round(v, 5))\n"
      ],
      "metadata": {
        "colab": {
          "base_uri": "https://localhost:8080/"
        },
        "id": "Gb-yO-2fWEli",
        "outputId": "87fcacfe-c03a-4e11-fc15-1868c03239af"
      },
      "execution_count": null,
      "outputs": [
        {
          "output_type": "stream",
          "name": "stdout",
          "text": [
            "Left rectangle: 0.48281\n",
            "Right rectangle: 0.47589\n",
            "Average rectangle: 0.47931\n",
            "Check with SciPy quad method: 0.47932\n"
          ]
        }
      ]
    },
    {
      "cell_type": "markdown",
      "source": [
        "**Завдання 2.** Метод Сімпсона"
      ],
      "metadata": {
        "id": "FWnDoC26cWgZ"
      }
    },
    {
      "cell_type": "code",
      "source": [
        "#Обчислення інтеграла методом Симпсона\n",
        "from scipy import integrate\n",
        "import numpy as np\n",
        "\n",
        "def f(x):\n",
        "    return (np.sqrt(x)+1) * np.tan(2*x)\n",
        "\n",
        "a = 0.6\n",
        "b = 0.72\n",
        "n = 8\n",
        "h = (b - a) / n\n",
        "\n",
        "def simpson_rule(f, a, b, n):\n",
        "    integr = f(a) + f(b)\n",
        "    for i in range(1,n):\n",
        "        k = a + i*h\n",
        "        if i%2 == 0:\n",
        "            integr += 2 * f(k)\n",
        "        else:\n",
        "            integr += 4 * f(k)\n",
        "    integr *= h/3\n",
        "    return integr\n",
        "\n",
        "print(\"Метод Сімпсона:\", round(simpson_rule(f, a, b, n), 3))\n",
        "\n",
        "#Перевірка\n",
        "v,err = integrate.quad(f,a,b)\n",
        "print(\"Перевірте для методу Сімпсона = \",round(v, 3))"
      ],
      "metadata": {
        "colab": {
          "base_uri": "https://localhost:8080/"
        },
        "id": "mhk9jxghcW1Y",
        "outputId": "aa0aa9d5-a1c6-4a80-d995-62dc7abba902"
      },
      "execution_count": null,
      "outputs": [
        {
          "output_type": "stream",
          "name": "stdout",
          "text": [
            "Метод Сімпсона: 0.929\n",
            "Перевірте для методу Сімпсона =  0.929\n"
          ]
        }
      ]
    },
    {
      "cell_type": "markdown",
      "source": [
        "**Завдання 3.** Визначити інтеграм методом трапецій"
      ],
      "metadata": {
        "id": "23_5V0z8f3EO"
      }
    },
    {
      "cell_type": "code",
      "source": [
        "#Обчислення інтегралу методом трапецій\n",
        "\n",
        "from scipy import integrate\n",
        "import numpy as np\n",
        "\n",
        "def f(x):\n",
        "    return 1 / np.sqrt(2 * x**2 + 3)\n",
        "\n",
        "a = 0.8\n",
        "b = 1.4\n",
        "n = 20\n",
        "\n",
        "def trapezoidal_rule(f, a, b, n):\n",
        "    h = (b - a) / n\n",
        "    sum = 0.5 * (f(a) + f(b))\n",
        "    x = a\n",
        "\n",
        "    for i in range(1, n):\n",
        "        x += h\n",
        "        sum += f(x)\n",
        "\n",
        "    integral = h * sum\n",
        "\n",
        "    return integral\n",
        "\n",
        "integral = trapezoidal_rule(f, a, b, n)\n",
        "print(\"Результат методу Трапетція:\", round(integral, 5))\n",
        "\n",
        "# Перевірка\n",
        "v, err = integrate.quad(f, a, b)\n",
        "print(\"Перевірте за допомогою методу SciPy quad:\", round(v, 5))"
      ],
      "metadata": {
        "colab": {
          "base_uri": "https://localhost:8080/"
        },
        "id": "aqgQIHFgf48x",
        "outputId": "5499638e-eee2-4551-8e29-a538c14e584a"
      },
      "execution_count": null,
      "outputs": [
        {
          "output_type": "stream",
          "name": "stdout",
          "text": [
            "Результат методу Трапетція: 0.25818\n",
            "Перевірте за допомогою методу SciPy quad: 0.25818\n"
          ]
        }
      ]
    }
  ]
}