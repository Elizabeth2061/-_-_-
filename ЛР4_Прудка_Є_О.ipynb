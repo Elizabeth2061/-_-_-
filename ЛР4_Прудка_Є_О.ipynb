{
  "nbformat": 4,
  "nbformat_minor": 0,
  "metadata": {
    "colab": {
      "provenance": [],
      "include_colab_link": true
    },
    "kernelspec": {
      "name": "python3",
      "display_name": "Python 3"
    },
    "language_info": {
      "name": "python"
    }
  },
  "cells": [
    {
      "cell_type": "markdown",
      "metadata": {
        "id": "view-in-github",
        "colab_type": "text"
      },
      "source": [
        "<a href=\"https://colab.research.google.com/github/Elizabeth2061/Laboratory-work/blob/main/%D0%9B%D0%A04_%D0%9F%D1%80%D1%83%D0%B4%D0%BA%D0%B0_%D0%84_%D0%9E.ipynb\" target=\"_parent\"><img src=\"https://colab.research.google.com/assets/colab-badge.svg\" alt=\"Open In Colab\"/></a>"
      ]
    },
    {
      "cell_type": "markdown",
      "source": [
        "#Прудка Єлизавета Олександрівна\n",
        "Лабораторна 4.\n",
        "Група 2-8.\n",
        "Варіант 26."
      ],
      "metadata": {
        "id": "ooIkOiQVVhCB"
      }
    },
    {
      "cell_type": "markdown",
      "source": [
        "1. Знайти матрицю С = АВ - ВА"
      ],
      "metadata": {
        "id": "LUHsmcDuWD-k"
      }
    },
    {
      "cell_type": "code",
      "source": [
        "import numpy as np\n",
        "a = np.matrix([[1, 2], [4, -1]])\n",
        "b = np.matrix([[2, -3], [-4, 1]])\n",
        "ab = np.dot(a, b)\n",
        "ba = np.dot(b, a)\n",
        "c = ab - ba\n",
        "print(\"Матриця С:\")\n",
        "print(c)"
      ],
      "metadata": {
        "colab": {
          "base_uri": "https://localhost:8080/"
        },
        "id": "qUlTRj8_Vhyb",
        "outputId": "9d85a6b8-f64b-4ebf-f26e-421c75367216"
      },
      "execution_count": null,
      "outputs": [
        {
          "output_type": "stream",
          "name": "stdout",
          "text": [
            "Матриця С:\n",
            "[[ 4 -8]\n",
            " [12 -4]]\n"
          ]
        }
      ]
    },
    {
      "cell_type": "markdown",
      "source": [
        "2. Піднести матрицю до степеня."
      ],
      "metadata": {
        "id": "7w7aDlRKYoiB"
      }
    },
    {
      "cell_type": "code",
      "source": [
        "a = np.array([[-1, 2], [0, 1]])\n",
        "c = a^2\n",
        "print(\"Піднесення матриці до 2го степеня:\")\n",
        "print(c)"
      ],
      "metadata": {
        "colab": {
          "base_uri": "https://localhost:8080/"
        },
        "id": "Bpt84H5HY2Dm",
        "outputId": "1714592a-737d-4375-bc9a-799119ae70a2"
      },
      "execution_count": null,
      "outputs": [
        {
          "output_type": "stream",
          "name": "stdout",
          "text": [
            "Піднесення матриці до 2го степеня:\n",
            "[[-3  0]\n",
            " [ 2  3]]\n"
          ]
        }
      ]
    },
    {
      "cell_type": "markdown",
      "source": [
        "3. Знайти добуток матриць."
      ],
      "metadata": {
        "id": "drOdMS5oZ4fC"
      }
    },
    {
      "cell_type": "code",
      "source": [
        "a = np.matrix([[3, 5], [6, -1]])\n",
        "b = np.matrix([[2, 1], [-3, 2]])\n",
        "c = np.dot(a, b)\n",
        "print(\"Добуток матриць:\")\n",
        "print(c)"
      ],
      "metadata": {
        "colab": {
          "base_uri": "https://localhost:8080/"
        },
        "id": "R8F1Dmk1alBm",
        "outputId": "a29c3228-ebfe-4477-8370-f28c90f5674f"
      },
      "execution_count": null,
      "outputs": [
        {
          "output_type": "stream",
          "name": "stdout",
          "text": [
            "Добуток матриць:\n",
            "[[-9 13]\n",
            " [15  4]]\n"
          ]
        }
      ]
    },
    {
      "cell_type": "markdown",
      "source": [
        "4. Обчислити визначник."
      ],
      "metadata": {
        "id": "exugJA6Zd3S0"
      }
    },
    {
      "cell_type": "code",
      "source": [
        "a = np.array([[2, 3, 4], [1, 0, 6], [7, 8, 9]])\n",
        "a_det = np.linalg.det(a)\n",
        "print(\"Визначник матриці:\")\n",
        "print(a_det.round(2))"
      ],
      "metadata": {
        "colab": {
          "base_uri": "https://localhost:8080/"
        },
        "id": "3lglRmuKd8jo",
        "outputId": "88b6200f-291d-4ffb-8d00-51849b029372"
      },
      "execution_count": null,
      "outputs": [
        {
          "output_type": "stream",
          "name": "stdout",
          "text": [
            "Визначник матриці:\n",
            "35.0\n"
          ]
        }
      ]
    },
    {
      "cell_type": "markdown",
      "source": [
        "5. Обчислити визначник."
      ],
      "metadata": {
        "id": "rhgpP1OffQav"
      }
    },
    {
      "cell_type": "code",
      "source": [
        "a = np.array([[1, 2, 3, 4], [-2, 1, -4, 3], [3, -4, -1, 2], [4, 3, -2, -1]])\n",
        "a_det = np.linalg.det(a)\n",
        "print(\"Визначник матриці:\")\n",
        "print(a_det.round(2))"
      ],
      "metadata": {
        "colab": {
          "base_uri": "https://localhost:8080/"
        },
        "id": "lcVElW-timdp",
        "outputId": "704c2446-914d-4a3f-ebd8-1099d966fc1b"
      },
      "execution_count": null,
      "outputs": [
        {
          "output_type": "stream",
          "name": "stdout",
          "text": [
            "Визначник матриці:\n",
            "900.0\n"
          ]
        }
      ]
    },
    {
      "cell_type": "markdown",
      "source": [
        "6. Знайти обернену матрицю."
      ],
      "metadata": {
        "id": "_7ByhiRujJAH"
      }
    },
    {
      "cell_type": "code",
      "source": [
        "a = np.matrix([[1, 2, -3], [0, 1, 2], [0, 0, 1]])\n",
        "a_inv = np.linalg.inv(a)\n",
        "print(\"Обернена матриця:\")\n",
        "print(a_inv)"
      ],
      "metadata": {
        "colab": {
          "base_uri": "https://localhost:8080/"
        },
        "id": "DdA2U-6cjOaI",
        "outputId": "ac59a24a-5301-48b2-bacf-82c03783bd67"
      },
      "execution_count": null,
      "outputs": [
        {
          "output_type": "stream",
          "name": "stdout",
          "text": [
            "Обернена матриця:\n",
            "[[ 1. -2.  7.]\n",
            " [ 0.  1. -2.]\n",
            " [ 0.  0.  1.]]\n"
          ]
        }
      ]
    },
    {
      "cell_type": "markdown",
      "source": [
        "7. Визначити ранг матриці."
      ],
      "metadata": {
        "id": "X4oAXHf6kEXa"
      }
    },
    {
      "cell_type": "code",
      "source": [
        "a = np.array([[1, 2, 3, 4], [3, -1, 2, 5], [1, 2, 3, 4], [1, 3, 4, 5]])\n",
        "rank = np.linalg.matrix_rank(a)\n",
        "print(\"Ранг матриці:\")\n",
        "print(rank)"
      ],
      "metadata": {
        "colab": {
          "base_uri": "https://localhost:8080/"
        },
        "id": "U-YiEWdMkS38",
        "outputId": "86b0ab06-c8b0-4e0e-82b1-88673df9533f"
      },
      "execution_count": null,
      "outputs": [
        {
          "output_type": "stream",
          "name": "stdout",
          "text": [
            "Ранг матриці:\n",
            "2\n"
          ]
        }
      ]
    },
    {
      "cell_type": "markdown",
      "source": [
        "8. Розв’язати систему лінійних рівнянь.\n",
        "Варіант 26."
      ],
      "metadata": {
        "id": "pHNJl3sXkw43"
      }
    },
    {
      "cell_type": "code",
      "source": [
        "# Матричний метод\n",
        "def matrix_method(coefficients, constants):\n",
        "    inverse_matrix = np.linalg.inv(coefficients)\n",
        "    return np.dot(inverse_matrix, constants)\n",
        "\n",
        "# Метод Крамера\n",
        "def cramer_method(coefficients, constants):\n",
        "    det_coefficients = np.linalg.det(coefficients)\n",
        "    solutions = []\n",
        "    for i in range(len(coefficients)):\n",
        "        modified_coefficients = np.copy(coefficients)\n",
        "        modified_coefficients[:, i] = constants\n",
        "        solutions.append(round(np.linalg.det(modified_coefficients) / det_coefficients, 1))\n",
        "    return solutions\n",
        "\n",
        "#Метод Гауса\n",
        "def gauss_method(a, b):\n",
        "    n = len(b)\n",
        "\n",
        "    for k in range(0, n-1):\n",
        "        for i in range(k+1, n):\n",
        "            if a[i, k] != 0.0:\n",
        "                lam = a[i, k] / a[k, k]\n",
        "                a[i, k+1:n] = a[i, k+1:n] - lam * a[k, k+1:n]\n",
        "                b[i] = b[i] - lam * b[k]\n",
        "\n",
        "    x = np.zeros(n)\n",
        "    for k in range(n-1, -1, -1):\n",
        "        x[k] = (b[k] - np.dot(a[k, k+1:n], x[k+1:n])) / a[k, k]\n",
        "\n",
        "    return x\n",
        "\n",
        "def main():\n",
        "    a = np.array([[1.0, 2.0, -1.0],\n",
        "                  [3.0, 4.0, 1.0],\n",
        "                  [5.0, 1.0, -3.0]])\n",
        "\n",
        "    b = np.array([-3.0, 1.0, -2.0])\n",
        "\n",
        "    # Матричний метод\n",
        "    x_matrix = matrix_method(a, b)\n",
        "    print(\"Матричний метод:\", x_matrix)\n",
        "\n",
        "    # Метод Крамера\n",
        "    x_cramer = cramer_method(a, b)\n",
        "    print(\"Метод Крамера:\", x_cramer)\n",
        "\n",
        "    # Метод Гауса\n",
        "    x_gauss = gauss_method(a, b)\n",
        "    print(\"Метод Гауса:\", x_gauss)\n",
        "\n",
        "\n",
        "if __name__ == \"__main__\":\n",
        "    main()"
      ],
      "metadata": {
        "colab": {
          "base_uri": "https://localhost:8080/"
        },
        "id": "by3gu0daqo9o",
        "outputId": "6686f05f-2d96-4663-f5e6-913e9e63fcc8"
      },
      "execution_count": null,
      "outputs": [
        {
          "output_type": "stream",
          "name": "stdout",
          "text": [
            "Матричний метод: [ 1. -1.  2.]\n",
            "Метод Крамера: [1.0, -1.0, 2.0]\n",
            "Метод Гауса: [ 1. -1.  2.]\n"
          ]
        }
      ]
    },
    {
      "cell_type": "markdown",
      "source": [
        "#Завдання 2.\n",
        " 3.Створіть прямокутну матрицю A, яка має N рядків і M стовпців з\n",
        "випадковими елементами. Визначте середні значення для всіх рядків і\n",
        "стовпців матриці."
      ],
      "metadata": {
        "id": "Zb0KKy_OrndQ"
      }
    },
    {
      "cell_type": "code",
      "source": [
        "import numpy as np\n",
        "\n",
        "N = 4\n",
        "M = 5\n",
        "\n",
        "# Створення матриці A розміром N x M з випадковими елементами\n",
        "A = np.random.randint(1, 9, size=(N, M))\n",
        "\n",
        "print(\"Матриця A:\")\n",
        "print(A)\n",
        "\n",
        "# Обчислення середніх значень для кожного рядка\n",
        "row_means = A.mean(axis=1)\n",
        "print(\"\\nСередні значення для кожного рядка:\")\n",
        "print(row_means)\n",
        "\n",
        "# Обчислення середніх значень для кожного стовпця\n",
        "col_means = A.mean(axis=0)\n",
        "print(\"\\nСередні значення для кожного стовпця:\")\n",
        "print(col_means)\n"
      ],
      "metadata": {
        "colab": {
          "base_uri": "https://localhost:8080/"
        },
        "id": "j3b5BILZroZk",
        "outputId": "1b3b53d9-4676-428c-d54a-d573bf356444"
      },
      "execution_count": null,
      "outputs": [
        {
          "output_type": "stream",
          "name": "stdout",
          "text": [
            "Матриця A:\n",
            "[[6 6 2 1 8]\n",
            " [3 8 6 1 8]\n",
            " [6 6 8 2 5]\n",
            " [6 3 4 6 5]]\n",
            "\n",
            "Середні значення для кожного рядка:\n",
            "[4.6 5.2 5.4 4.8]\n",
            "\n",
            "Середні значення для кожного стовпця:\n",
            "[5.25 5.75 5.   2.5  6.5 ]\n"
          ]
        }
      ]
    }
  ]
}