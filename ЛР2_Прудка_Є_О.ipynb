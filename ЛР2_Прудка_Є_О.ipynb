{
  "nbformat": 4,
  "nbformat_minor": 0,
  "metadata": {
    "colab": {
      "provenance": [],
      "authorship_tag": "ABX9TyN83+b8XkEq67YYz37G5N4k",
      "include_colab_link": true
    },
    "kernelspec": {
      "name": "python3",
      "display_name": "Python 3"
    },
    "language_info": {
      "name": "python"
    }
  },
  "cells": [
    {
      "cell_type": "markdown",
      "metadata": {
        "id": "view-in-github",
        "colab_type": "text"
      },
      "source": [
        "<a href=\"https://colab.research.google.com/github/Elizabeth2061/Laboratory-work/blob/main/%D0%9B%D0%A02_%D0%9F%D1%80%D1%83%D0%B4%D0%BA%D0%B0_%D0%84_%D0%9E.ipynb\" target=\"_parent\"><img src=\"https://colab.research.google.com/assets/colab-badge.svg\" alt=\"Open In Colab\"/></a>"
      ]
    },
    {
      "cell_type": "markdown",
      "source": [
        "#Прудка Єлизавета Олександрівна\n",
        "Лабораторна робота 2.\n",
        "Група 2-8.\n",
        "Варіант 26."
      ],
      "metadata": {
        "id": "9DT0kgg7kGMz"
      }
    },
    {
      "cell_type": "code",
      "source": [
        "import numpy as np\n",
        "import numdifftools as nd\n",
        "\n",
        "def f(x):\n",
        "    return 3*pow(x, 4) + 4*pow(x, 3) - 12*pow(x, 2) - 1\n",
        "eps = 0.0001\n",
        "\n",
        "# Відокремлення коренів.\n",
        "def find_segments():\n",
        "    search_range = np.arange(-10, 10, 1)\n",
        "\n",
        "    a = None\n",
        "    previous_x = None\n",
        "    current_x = None\n",
        "    segments = []\n",
        "\n",
        "    for x in search_range:\n",
        "        x = round(x, 4)\n",
        "        current_x = f(x)\n",
        "        if previous_x is not None and previous_x * current_x < 0:\n",
        "            segments.append((a, x))\n",
        "        a = x\n",
        "        previous_x = current_x\n",
        "\n",
        "    return segments\n",
        "segments = find_segments()\n",
        "for a, b in segments:\n",
        " print(f'Знайдено сегмент: [{a}, {b}]')\n",
        "\n",
        "# Метод половинного ділення.\n",
        "def rec(a, b, eps):\n",
        "    while (abs(a - b) > eps):\n",
        "        k = (a + b) / 2\n",
        "        if f(a) * f(k) < 0:\n",
        "            b = k\n",
        "        else:\n",
        "            a = k\n",
        "    x = (a + b) / 2\n",
        "    print('x =', round(x, 5), ' - Метод половинного ділення')\n",
        "    return x\n",
        "\n",
        "# Метод хорд.\n",
        "def hord(a, b, eps):\n",
        "    derivative_f = nd.Derivative(f, n=1)\n",
        "    if f(a) * derivative_f(a) > 0:\n",
        "        x0 = a\n",
        "        xi = b\n",
        "    else:\n",
        "      x0 = b\n",
        "      xi = a\n",
        "\n",
        "    xi_1 = xi - (xi - x0) * f(xi) / (f(xi) - f(x0))\n",
        "    while abs(xi_1 - xi) > eps:\n",
        "        if abs(f(xi) - f(x0)) < eps:\n",
        "            print(\"Ділення на дуже мале значення.\")\n",
        "            break\n",
        "        xi = xi_1\n",
        "        xi_1 = xi - (xi - x0) * f(xi) / (f(xi) - f(x0))\n",
        "\n",
        "    print('x =', round(xi_1, 5), ' - Метод хорд')\n",
        "    return xi_1\n",
        "\n",
        "for a, b in segments:\n",
        "    print(f\"Розв'язання нелінійного рівняння на відрізку [{a}, {b}]\")\n",
        "    rec_result = rec(a, b, eps)\n",
        "    hord_result = hord(a, b, eps)"
      ],
      "metadata": {
        "colab": {
          "base_uri": "https://localhost:8080/"
        },
        "id": "Exu9GWvsKTJo",
        "outputId": "e5e9809c-da78-48ed-b10a-10034fd1946a"
      },
      "execution_count": null,
      "outputs": [
        {
          "output_type": "stream",
          "name": "stdout",
          "text": [
            "Знайдено сегмент: [-3, -2]\n",
            "Знайдено сегмент: [1, 2]\n",
            "Розв'язання нелінійного рівняння на відрізку [-3, -2]\n",
            "x = -2.785  - Метод половинного ділення\n",
            "Ділення на дуже мале значення.\n",
            "x = -3164107.22353  - Метод хорд\n",
            "Розв'язання нелінійного рівняння на відрізку [1, 2]\n",
            "x = 1.47745  - Метод половинного ділення\n",
            "x = 1.47737  - Метод хорд\n"
          ]
        }
      ]
    }
  ]
}